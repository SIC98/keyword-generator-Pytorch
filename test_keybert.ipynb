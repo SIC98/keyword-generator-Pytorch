{
 "cells": [
  {
   "cell_type": "code",
   "execution_count": 37,
   "metadata": {},
   "outputs": [
    {
     "name": "stderr",
     "output_type": "stream",
     "text": [
      "Downloading (…)a8e1d/.gitattributes: 100%|██████████| 1.18k/1.18k [00:00<00:00, 5.11MB/s]\n",
      "Downloading (…)_Pooling/config.json: 100%|██████████| 190/190 [00:00<00:00, 911kB/s]\n",
      "Downloading (…)b20bca8e1d/README.md: 100%|██████████| 10.6k/10.6k [00:00<00:00, 28.3MB/s]\n",
      "Downloading (…)0bca8e1d/config.json: 100%|██████████| 571/571 [00:00<00:00, 2.78MB/s]\n",
      "Downloading (…)ce_transformers.json: 100%|██████████| 116/116 [00:00<00:00, 521kB/s]\n",
      "Downloading (…)e1d/data_config.json: 100%|██████████| 39.3k/39.3k [00:00<00:00, 85.2MB/s]\n",
      "Downloading pytorch_model.bin: 100%|██████████| 438M/438M [00:07<00:00, 56.6MB/s] \n",
      "Downloading (…)nce_bert_config.json: 100%|██████████| 53.0/53.0 [00:00<00:00, 279kB/s]\n",
      "Downloading (…)cial_tokens_map.json: 100%|██████████| 239/239 [00:00<00:00, 1.13MB/s]\n",
      "Downloading (…)a8e1d/tokenizer.json: 100%|██████████| 466k/466k [00:00<00:00, 2.68MB/s]\n",
      "Downloading (…)okenizer_config.json: 100%|██████████| 363/363 [00:00<00:00, 1.70MB/s]\n",
      "Downloading (…)8e1d/train_script.py: 100%|██████████| 13.1k/13.1k [00:00<00:00, 36.9MB/s]\n",
      "Downloading (…)b20bca8e1d/vocab.txt: 100%|██████████| 232k/232k [00:00<00:00, 681kB/s]\n",
      "Downloading (…)bca8e1d/modules.json: 100%|██████████| 349/349 [00:00<00:00, 1.70MB/s]\n"
     ]
    }
   ],
   "source": [
    "from keybert import KeyBERT\n",
    "\n",
    "kw_model = KeyBERT(\"all-mpnet-base-v2\")"
   ]
  },
  {
   "cell_type": "code",
   "execution_count": 43,
   "metadata": {},
   "outputs": [],
   "source": [
    "doc = [\n",
    "    \"Fishing Fleet (Monterey), California art by Art Riley. HD giclee art prints for sale at CaliforniaWatercolor.com - original California paintings, & premium giclee prints for sale\",\n",
    "    \"contemporary expensive lighting fixtures with minimum lighting\",\n",
    "    \"A man covers himself with algae as he poses for photographs on a beach in Qingdao, Shandong province on Tuesday, July 23, 2013. -- FILE PHOTO: REUTERS\",\n",
    "    \"FILE PHOTO: A rainbow appears on the Auckland skyline featuring Sky Tower in New Zealand\",\n",
    "    \"Nintendo Co.'s Super Mario is displayed on coffee mugs for sale at the Nintendo World store in New York, U.S., on Friday, May 17, 2013.\"\n",
    "]"
   ]
  },
  {
   "cell_type": "code",
   "execution_count": 44,
   "metadata": {},
   "outputs": [
    {
     "data": {
      "text/plain": [
       "[[('fleet monterey', 0.7136),\n",
       "  ('fishing fleet', 0.6401),\n",
       "  ('california art', 0.5914),\n",
       "  ('california paintings', 0.5841),\n",
       "  ('californiawatercolor com', 0.5457)],\n",
       " [('expensive lighting', 0.7355),\n",
       "  ('lighting fixtures', 0.6861),\n",
       "  ('minimum lighting', 0.6151),\n",
       "  ('lighting', 0.4791),\n",
       "  ('contemporary expensive', 0.4162)],\n",
       " [('algae as', 0.5152),\n",
       "  ('algae', 0.4864),\n",
       "  ('with algae', 0.4254),\n",
       "  ('covers himself', 0.3928),\n",
       "  ('on beach', 0.369)],\n",
       " [('auckland skyline', 0.6782),\n",
       "  ('photo rainbow', 0.5596),\n",
       "  ('rainbow', 0.5568),\n",
       "  ('the auckland', 0.5537),\n",
       "  ('rainbow appears', 0.5526)],\n",
       " [('nintendo world', 0.5979),\n",
       "  ('super mario', 0.5811),\n",
       "  ('mario', 0.519),\n",
       "  ('the nintendo', 0.5036),\n",
       "  ('nintendo', 0.473)]]"
      ]
     },
     "execution_count": 44,
     "metadata": {},
     "output_type": "execute_result"
    }
   ],
   "source": [
    "kw_model.extract_keywords(doc, keyphrase_ngram_range=(1, 2), stop_words=None)"
   ]
  },
  {
   "cell_type": "code",
   "execution_count": 10,
   "metadata": {},
   "outputs": [
    {
     "data": {
      "text/html": [
       "<pre style=\"white-space:pre;overflow-x:auto;line-height:normal;font-family:Menlo,'DejaVu Sans Mono',consolas,'Courier New',monospace\"><span style=\"color: #000000; text-decoration-color: #000000; background-color: #ffff00\">Fishing</span> Fleet <span style=\"color: #000000; text-decoration-color: #000000; background-color: #ffff00\">Monterey</span> California <span style=\"color: #000000; text-decoration-color: #000000; background-color: #ffff00\">art</span> by <span style=\"color: #000000; text-decoration-color: #000000; background-color: #ffff00\">Art</span> Riley HD giclee <span style=\"color: #000000; text-decoration-color: #000000; background-color: #ffff00\">art</span> prints for sale at <span style=\"color: #000000; text-decoration-color: #000000; background-color: #ffff00\">CaliforniaWatercolor</span> com \n",
       "original California <span style=\"color: #000000; text-decoration-color: #000000; background-color: #ffff00\">paintings</span> premium giclee prints for sale\n",
       "</pre>\n"
      ],
      "text/plain": [
       "\u001b[30;48;2;255;255;0mFishing\u001b[0m Fleet \u001b[30;48;2;255;255;0mMonterey\u001b[0m California \u001b[30;48;2;255;255;0mart\u001b[0m by \u001b[30;48;2;255;255;0mArt\u001b[0m Riley HD giclee \u001b[30;48;2;255;255;0mart\u001b[0m prints for sale at \u001b[30;48;2;255;255;0mCaliforniaWatercolor\u001b[0m com \n",
       "original California \u001b[30;48;2;255;255;0mpaintings\u001b[0m premium giclee prints for sale\n"
      ]
     },
     "metadata": {},
     "output_type": "display_data"
    }
   ],
   "source": [
    "keywords = kw_model.extract_keywords(doc, highlight=True)\n"
   ]
  }
 ],
 "metadata": {
  "kernelspec": {
   "display_name": "venv",
   "language": "python",
   "name": "python3"
  },
  "language_info": {
   "codemirror_mode": {
    "name": "ipython",
    "version": 3
   },
   "file_extension": ".py",
   "mimetype": "text/x-python",
   "name": "python",
   "nbconvert_exporter": "python",
   "pygments_lexer": "ipython3",
   "version": "3.10.12"
  },
  "orig_nbformat": 4
 },
 "nbformat": 4,
 "nbformat_minor": 2
}
